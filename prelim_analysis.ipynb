{
 "cells": [
  {
   "cell_type": "markdown",
   "metadata": {},
   "source": [
    "#### Using the attached Reported Event and Aircraft Movement data, provide visualisations on the rate of events (per aircraft movement) at the four locations. Provide insight on any two event types and whether they involved civilian aircraft registered in Australia or overseas. Only present data for the 2022 calendar year (Jan-Dec)."
   ]
  },
  {
   "cell_type": "markdown",
   "metadata": {},
   "source": [
    "Whilst we use a wide range of metrics to validate our performance, the following two internationally used\n",
    "benchmark metrics are our key indicators of our safety performance:\n",
    "\n",
    "• the required separation standard between aircraft or a restricted airspace volume is infringed (Loss\n",
    "of Separations (LOS))\n",
    "\n",
    "• an unauthorised aircraft, vehicle or person is on a runway (Runway Incursions). "
   ]
  },
  {
   "cell_type": "code",
   "execution_count": null,
   "metadata": {},
   "outputs": [],
   "source": [
    "import os\n",
    "import pandas as pd\n",
    "import seaborn as sns\n",
    "import matplotlib.pyplot as plt\n",
    "import plotly.express as px"
   ]
  },
  {
   "cell_type": "code",
   "execution_count": null,
   "metadata": {},
   "outputs": [],
   "source": [
    "data_dir = r\"data\"\n",
    "events_path = os.path.join(data_dir,r\"Reported_Events.csv\")\n",
    "blue_path = os.path.join(data_dir,r\"Monthly_Aircraft_Movements_Blue_City.csv\")\n",
    "green_path = os.path.join(data_dir,r\"Monthly_Aircraft_Movements_Green_City.csv\")\n",
    "red_path = os.path.join(data_dir,r\"Monthly_Aircraft_Movements_Red_City.csv\")\n",
    "yellow_path = os.path.join(data_dir,r\"Monthly_Aircraft_Movements_Yellow_City.csv\")"
   ]
  },
  {
   "cell_type": "code",
   "execution_count": null,
   "metadata": {},
   "outputs": [],
   "source": [
    "# Read in the city movement data, filter to 2022 only, store as one merged DF\n",
    "blue_df = pd.read_csv(blue_path,names=['datetime','n_movements'],header=0)\n",
    "blue_df['location'] = 'Blue City'\n",
    "green_df = pd.read_csv(green_path,names=['datetime','n_movements'],header=0)\n",
    "green_df['location'] = 'Green City'\n",
    "red_df = pd.read_csv(red_path,names=['datetime','n_movements'],header=0)\n",
    "red_df['location'] = 'Red City'\n",
    "yellow_df = pd.read_csv(yellow_path,names=['datetime','n_movements'],header=0)\n",
    "yellow_df['location'] = 'Yellow City'\n",
    "\n",
    "movements_df = pd.concat([blue_df, green_df, red_df, yellow_df])\n",
    "movements_df.datetime = pd.to_datetime(movements_df.datetime,format=\"%d/%m/%Y %H:%M:%S\")\n",
    "movements_df = movements_df[movements_df.datetime.dt.year==2022].copy().reset_index(drop=True)    \n",
    "movements_df.sample(5)"
   ]
  },
  {
   "cell_type": "code",
   "execution_count": null,
   "metadata": {},
   "outputs": [],
   "source": [
    "# Read in the events data, filter to 2022 only\n",
    "events_df = pd.read_csv(events_path)\n",
    "events_df.Event_Date = pd.to_datetime(events_df.Event_Date,format=\"%d-%m-%y\")\n",
    "events_df = events_df[events_df.Event_Date.dt.year==2022].copy().reset_index(drop=True)\n",
    "events_df = events_df.rename(columns={'Location':'location'})\n",
    "events_df.sample(5)"
   ]
  },
  {
   "cell_type": "code",
   "execution_count": null,
   "metadata": {},
   "outputs": [],
   "source": [
    "# Get the counts for events and movements for each location, determine the rate per 1,000 movements\n",
    "n_events = pd.DataFrame(events_df.location.value_counts()).rename(columns={'location':'n_events'})\n",
    "n_movements = movements_df.groupby(['location']).sum()\n",
    "results_df = pd.merge(n_events,n_movements,left_index=True,right_index=True)\n",
    "results_df['event_rate']= results_df.n_events/(results_df.n_movements/1000)\n",
    "results_df = results_df.reset_index().rename(columns={'index':'location'})\n",
    "results_df = results_df.sort_values('location')\n",
    "results_df"
   ]
  },
  {
   "cell_type": "code",
   "execution_count": null,
   "metadata": {},
   "outputs": [],
   "source": [
    "# Define the bar colours based on city names\n",
    "blue = (50, 116, 161)\n",
    "green = (58, 146, 58)\n",
    "red = (192, 61, 62)\n",
    "yellow = (167, 168, 89)\n",
    "colours = [(r/255, g/255, b/255, 1) for r, g, b in [blue,green,red,yellow]]\n",
    "\n",
    "# Plot the results\n",
    "ax = sns.barplot(data=results_df, x=\"location\", y=\"event_rate\", palette=colours)\n",
    "\n",
    "# Add title, axis and tick labels\n",
    "plt.title(\"Rate of Events – January to December 2022\")\n",
    "plt.ylabel(\"Event rate (per 1,000 movements)\")\n",
    "plt.xlabel(\"Location\")\n",
    "plt.xticks(rotation=45)\n",
    "\n",
    "# Add annotations\n",
    "for p in ax.patches:\n",
    "    ax.annotate(format(p.get_height(), '.3f'), (p.get_x() + p.get_width() / 2., p.get_height()), \n",
    "                ha = 'center', va = 'center', xytext = (0, 10), textcoords = 'offset points', rotation=0)\n",
    "\n",
    "# Add white space to top of plot\n",
    "plt.ylim(0, ax.get_ylim()[1] * 1.3) \n",
    "\n",
    "plt.show()"
   ]
  },
  {
   "cell_type": "markdown",
   "metadata": {},
   "source": [
    "#### Now that we've completed that, let's look into the monthly rates to see if there is anything interesting"
   ]
  },
  {
   "cell_type": "code",
   "execution_count": null,
   "metadata": {},
   "outputs": [],
   "source": [
    "# Get a DataFrame with number of events by month and location\n",
    "events_df['month'] = events_df.Event_Date.dt.to_period('M')\n",
    "city_month_events_df = events_df.groupby(['location','month']).count().iloc[:,[0]].rename(columns={'Event_ID':'n_events'})\n",
    "city_month_events_df = city_month_events_df.reset_index()\n",
    "city_month_events_df.sample(5)"
   ]
  },
  {
   "cell_type": "code",
   "execution_count": null,
   "metadata": {},
   "outputs": [],
   "source": [
    "# Merge the above with the movements dataframe joining on month and location, then calculate monthly event rates\n",
    "movements_df['month'] = movements_df.datetime.dt.to_period('M')\n",
    "merged_movements_events = pd.merge(movements_df,city_month_events_df,on=['month','location'])\n",
    "merged_movements_events['event_rate'] = merged_movements_events.n_events/(merged_movements_events.n_movements/1000)\n",
    "merged_movements_events = merged_movements_events.sort_values('location')\n",
    "merged_movements_events.sample(5)"
   ]
  },
  {
   "cell_type": "code",
   "execution_count": null,
   "metadata": {},
   "outputs": [],
   "source": [
    "# Plot each locations monthly event rates on one lineplot\n",
    "sns.lineplot(x='datetime', y='event_rate', hue='location', data=merged_movements_events, palette=colours)\n",
    "plt.show()"
   ]
  },
  {
   "cell_type": "markdown",
   "metadata": {},
   "source": [
    "#### Looks like there are outliers in Red City for February and May 2022 - let's check that"
   ]
  },
  {
   "cell_type": "code",
   "execution_count": null,
   "metadata": {},
   "outputs": [],
   "source": [
    "# Create a box plot with multiple categories\n",
    "ax = sns.boxplot(x='location', y='event_rate', data=merged_movements_events,palette=colours)\n",
    "\n",
    "sns.set(style=\"ticks\")\n",
    "plt.xlabel('Location')\n",
    "plt.ylabel('Event Rate')\n",
    "plt.title('Monthly Location Event Rate Box Plots')\n",
    "plt.show()"
   ]
  },
  {
   "cell_type": "markdown",
   "metadata": {},
   "source": [
    "#### Yes, they are outliers. Let's look into it further. "
   ]
  },
  {
   "cell_type": "code",
   "execution_count": null,
   "metadata": {},
   "outputs": [],
   "source": [
    "def get_combined_city_df(city: str, movements_df: pd.DataFrame, events_df: pd.DataFrame, blank_df: pd.DataFrame) -> pd.DataFrame:\n",
    "    # Get the movements for this city\n",
    "    city_movements = movements_df[movements_df.location==city][[\"month\",\"n_movements\"]]\n",
    "\n",
    "    # Get the events for this city\n",
    "    city_events_df = events_df[events_df.location==city]\n",
    "    city_events_df = city_events_df.groupby(['Event_Type','month']).count().iloc[:,[0]].rename(columns={'Event_ID':'n_events'}).reset_index()\n",
    "    \n",
    "    # Join the city_events_df to blank df - this adds the 0 event types in a month to the data\n",
    "    city_events_df = pd.merge(blank_df,city_events_df,on=['month','Event_Type'],how='left')\n",
    "    city_events_df = city_events_df.fillna(0)\n",
    "    \n",
    "    # Add the movements values, calculate the event rates, sort by month and add the text month name\n",
    "    city_events_df = pd.merge(city_events_df,city_movements,on=\"month\")\n",
    "    city_events_df['event_rate'] = city_events_df.n_events/(city_events_df.n_movements/1000)\n",
    "    city_events_df = city_events_df.sort_values('month')\n",
    "    city_events_df.month = city_events_df.month.dt.strftime('%B')\n",
    "    \n",
    "    return city_events_df\n",
    "\n",
    "def show_event_rate_by_type_plots(df: pd.DataFrame, city: str) -> None:\n",
    "\n",
    "    # Plot the event rates by month and type \n",
    "    fig = px.line(df, x=\"month\", y=\"event_rate\", color=\"Event_Type\")\n",
    "    fig.update_layout(xaxis_title='Month', yaxis_title=\"Event rate (per 1,000 movements)\", legend_title=\"Event Type\",title=f\"2022 {city} Event Rates by Month and Type\")\n",
    "    fig.update_layout(yaxis_range=[0, 3])\n",
    "    fig.show()\n",
    "    \n",
    "    # Plot the monthly event rate distributions as type box plots\n",
    "    fig = px.box(df, \n",
    "                 x='Event_Type', \n",
    "                 y='event_rate', \n",
    "                 color='Event_Type')\n",
    "    fig.update_layout(xaxis_title='Event Type', \n",
    "                      yaxis_title=\"Event rate (per 1,000 movements)\", \n",
    "                      legend_title=\"Event Type\",\n",
    "                      title=f\"2022 {city} Event Rate Distributions by Type\")\n",
    "    fig.update_layout(yaxis_range=[0, 3])\n",
    "    fig.show()"
   ]
  },
  {
   "cell_type": "code",
   "execution_count": null,
   "metadata": {},
   "outputs": [],
   "source": [
    "def get_blank_df(event_types: list, start: str, end: str) -> pd.DataFrame:\n",
    "    # Create a temp DataFrame with rows for each month and event type combination\n",
    "    months = pd.Series(pd.period_range(start=start, end=end, freq='M'))\n",
    "    months = pd.concat([months] * len(event_types)).reset_index(drop=True)\n",
    "    \n",
    "    events = pd.Series(event_types)\n",
    "    events = events.repeat(len(months)/len(event_types)).reset_index(drop=True)\n",
    "    \n",
    "    return pd.DataFrame({'month':months,'Event_Type':events})"
   ]
  },
  {
   "cell_type": "code",
   "execution_count": null,
   "metadata": {},
   "outputs": [],
   "source": [
    "blank_df = get_blank_df(events_df.Event_Type.unique(),'2022-01','2022-12')\n",
    "city = \"Red City\"\n",
    "show_event_rate_by_type_plots(get_combined_city_df(city,movements_df,events_df,blank_df),city)"
   ]
  },
  {
   "cell_type": "markdown",
   "metadata": {},
   "source": [
    "#### Now that we look closer, there is an outlier for the Facility Issue event type in May, but no event level outliers in Feb. Let's see what type of aircraft were involved in the facility issues at Red City for 2022."
   ]
  },
  {
   "cell_type": "code",
   "execution_count": null,
   "metadata": {},
   "outputs": [],
   "source": [
    "events_df[(events_df.location==\"Red City\")&(events_df.Event_Type==\"Facility Issue\")].Aircraft_Register.value_counts()"
   ]
  },
  {
   "cell_type": "markdown",
   "metadata": {},
   "source": [
    "We see that of the civilian aircraft involved in Facility Issues at Red City in 2022, all 14 of them were Australian registered."
   ]
  },
  {
   "cell_type": "markdown",
   "metadata": {},
   "source": [
    "#### Let's look for any patterns of interest in the other cities now"
   ]
  },
  {
   "cell_type": "code",
   "execution_count": null,
   "metadata": {},
   "outputs": [],
   "source": [
    "city = \"Blue City\"\n",
    "show_event_rate_by_type_plots(get_combined_city_df(city,movements_df,events_df,blank_df),city)"
   ]
  },
  {
   "cell_type": "code",
   "execution_count": null,
   "metadata": {},
   "outputs": [],
   "source": [
    "city = \"Yellow City\"\n",
    "show_event_rate_by_type_plots(get_combined_city_df(city,movements_df,events_df,blank_df),city)"
   ]
  },
  {
   "cell_type": "code",
   "execution_count": null,
   "metadata": {},
   "outputs": [],
   "source": [
    "city = \"Green City\"\n",
    "show_event_rate_by_type_plots(get_combined_city_df(city,movements_df,events_df,blank_df),city)"
   ]
  },
  {
   "cell_type": "markdown",
   "metadata": {},
   "source": [
    "#### Loss of separation (LOS) and runway incursions are of interest given the risk of loss of life involved. These are also internationally used benchmark metrics and key indicators of safety performance. \n",
    "\n",
    "#### We can see that there is an outlier for LOS in February for Green City. Let's look into that. "
   ]
  },
  {
   "cell_type": "code",
   "execution_count": null,
   "metadata": {},
   "outputs": [],
   "source": [
    "events_df[(events_df.location==\"Green City\")&(events_df.Event_Type==\"Loss of Separation\")]\n"
   ]
  },
  {
   "cell_type": "markdown",
   "metadata": {},
   "source": [
    "We see that of the civilian aircraft involved in LOS at Green City in 2022, 3 of them were Australian registered and 2 not recorded. It's worth noting that all of them were listed with a date of 25 February"
   ]
  },
  {
   "cell_type": "code",
   "execution_count": null,
   "metadata": {},
   "outputs": [],
   "source": [
    "events_df[(events_df.location==\"Red City\")&(events_df.Event_Type==\"Facility Issue\")&(events_df.month==\"2022-05\")]"
   ]
  },
  {
   "cell_type": "code",
   "execution_count": null,
   "metadata": {},
   "outputs": [],
   "source": [
    "events_df.Event_Date.value_counts().sort_values()"
   ]
  },
  {
   "cell_type": "code",
   "execution_count": null,
   "metadata": {},
   "outputs": [],
   "source": [
    "events_df[events_df.Event_Date==\"2022-03-08\"]"
   ]
  },
  {
   "cell_type": "code",
   "execution_count": null,
   "metadata": {},
   "outputs": [],
   "source": [
    "events_df[(events_df.location==\"Green City\")&(events_df.Event_Type==\"Go Around\")&(events_df.month==\"2022-12\")]"
   ]
  },
  {
   "cell_type": "code",
   "execution_count": null,
   "metadata": {},
   "outputs": [],
   "source": []
  }
 ],
 "metadata": {
  "kernelspec": {
   "display_name": "Python 3",
   "language": "python",
   "name": "python3"
  },
  "language_info": {
   "codemirror_mode": {
    "name": "ipython",
    "version": 3
   },
   "file_extension": ".py",
   "mimetype": "text/x-python",
   "name": "python",
   "nbconvert_exporter": "python",
   "pygments_lexer": "ipython3",
   "version": "3.8.3"
  }
 },
 "nbformat": 4,
 "nbformat_minor": 4
}
